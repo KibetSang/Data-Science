{
 "cells": [
  {
   "cell_type": "code",
   "execution_count": 3,
   "id": "d442c68c",
   "metadata": {},
   "outputs": [
    {
     "name": "stdout",
     "output_type": "stream",
     "text": [
      "[  2  45  23  11  23  45  56  78  90  23  56 455  23  45  78  90  11  43\n",
      "  42  56   6  32  31  21  41  42  43  48  88]\n"
     ]
    }
   ],
   "source": [
    "# Importing NumPy \n",
    "\n",
    "import numpy as np\n",
    "\n",
    "h =[2,45,23,11,23,45,56,78,90,23,56,\n",
    "   455,23,45,78,90,11,43,42,56,6,32,31,21,41,42,43,48,88]\n",
    "\n",
    "np_h = np.array(h)\n",
    "print(np_h)"
   ]
  },
  {
   "cell_type": "code",
   "execution_count": 5,
   "id": "64da3c33",
   "metadata": {},
   "outputs": [
    {
     "name": "stdout",
     "output_type": "stream",
     "text": [
      "[ 45  23  23  45  56  78  90  23  56 455  23  45  78  90  43  42  56  32\n",
      "  31  21  41  42  43  48  88]\n"
     ]
    }
   ],
   "source": [
    "h_max = np_h[np_h>20]\n",
    "\n",
    "print(h_max)"
   ]
  },
  {
   "cell_type": "code",
   "execution_count": null,
   "id": "37aa0f3e",
   "metadata": {},
   "outputs": [],
   "source": []
  }
 ],
 "metadata": {
  "kernelspec": {
   "display_name": "Python 3 (ipykernel)",
   "language": "python",
   "name": "python3"
  },
  "language_info": {
   "codemirror_mode": {
    "name": "ipython",
    "version": 3
   },
   "file_extension": ".py",
   "mimetype": "text/x-python",
   "name": "python",
   "nbconvert_exporter": "python",
   "pygments_lexer": "ipython3",
   "version": "3.11.3"
  }
 },
 "nbformat": 4,
 "nbformat_minor": 5
}
